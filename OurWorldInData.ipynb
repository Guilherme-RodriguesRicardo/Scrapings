{
 "cells": [
  {
   "cell_type": "code",
   "execution_count": 1,
   "id": "cbfc514d-9839-4529-84b4-81838f9053f1",
   "metadata": {},
   "outputs": [],
   "source": [
    "# Importando libraries\n",
    "\n",
    "from webdriver_manager.chrome import ChromeDriverManager\n",
    "from selenium import webdriver\n",
    "import pandas as pd\n",
    "import selenium\n",
    "from webdriver_manager.chrome import ChromeDriverManager\n",
    "import chromedriver_autoinstaller\n",
    "import requests\n",
    "import os\n",
    "import glob\n",
    "import zipfile\n",
    "import time\n",
    "from pathlib import Path\n",
    "from selenium import webdriver\n",
    "import time"
   ]
  },
  {
   "cell_type": "code",
   "execution_count": 2,
   "id": "aa9167e0-020f-4770-87b3-cf44d6490831",
   "metadata": {},
   "outputs": [],
   "source": [
    "def get_file_dataframe():\n",
    "    \n",
    "    list_of_files = glob.glob(f'{Path.home()}/Downloads/*.csv') # * means all if need specific format then *.csv\n",
    "    #print(list_of_files)\n",
    "    latest_file = max(list_of_files, key=os.path.getctime)\n",
    "    filename = latest_file\n",
    "    #print(filename)\n",
    "    df = pd.read_csv(filename)\n",
    "    return df\n",
    "\n",
    "def delete_files_used(times):\n",
    "    \n",
    "    for i in range(times):\n",
    "        \n",
    "        list_of_files = glob.glob(f'{Path.home()}/Downloads/*.csv') # * means all if need specific format then *.csv\n",
    "        latest_file = max(list_of_files, key=os.path.getctime)\n",
    "        os.remove(latest_file)\n",
    "        #print('ok')\n",
    "        \n",
    "    return \n",
    "\n",
    "def download_wait(path_to_downloads):\n",
    "    seconds = 0\n",
    "    dl_wait = True\n",
    "    while dl_wait and seconds < 20:\n",
    "        time.sleep(1)\n",
    "        dl_wait = False\n",
    "        for fname in os.listdir(path_to_downloads):\n",
    "            if fname.endswith('.crdownload'):\n",
    "                dl_wait = True\n",
    "        seconds += 1\n",
    "    return seconds;"
   ]
  },
  {
   "cell_type": "code",
   "execution_count": 3,
   "id": "a85d982a-4d9b-41bb-b1ac-553b986d1803",
   "metadata": {},
   "outputs": [
    {
     "name": "stderr",
     "output_type": "stream",
     "text": [
      "C:\\Users\\guilh\\AppData\\Local\\Temp\\ipykernel_30672\\295279671.py:3: DeprecationWarning: executable_path has been deprecated, please pass in a Service object\n",
      "  driver = webdriver.Edge(executable_path = 'C:\\\\Users\\\\Downloads\\\\edgedriver_win64\\\\msedgedriver.exe');\n"
     ]
    }
   ],
   "source": [
    "# setup-selenium\n",
    "\n",
    "driver = webdriver.Edge(executable_path = 'C:\\\\Users\\\\Downloads\\\\edgedriver_win64\\\\msedgedriver.exe');\n",
    "# Check if the current version of chromedriver exists\n",
    "# and if it doesn't exist, download it automatically,\n",
    "# then add chromedriver to path\n"
   ]
  },
  {
   "cell_type": "code",
   "execution_count": 4,
   "id": "f21caa65-3675-4e0e-a8ad-c2ef4bbd8010",
   "metadata": {},
   "outputs": [],
   "source": [
    "url_t = 'https://ourworldindata.org/grapher/oil-production-by-country'\n",
    "driver.get(url_t)\n",
    "time.sleep(1.5)"
   ]
  },
  {
   "cell_type": "code",
   "execution_count": 5,
   "id": "318d97a9-ec39-4fef-b270-75086d6af411",
   "metadata": {},
   "outputs": [],
   "source": [
    "time.sleep(0.5)\n",
    "driver.find_element(\"xpath\",'/html/body/div[2]/div/div/div/div[2]/button').click()"
   ]
  },
  {
   "cell_type": "code",
   "execution_count": 6,
   "id": "d2bd5961-a714-4dde-b2aa-381a65ce4e45",
   "metadata": {},
   "outputs": [],
   "source": [
    "url_dict = {\n",
    "    'oil-production':'https://ourworldindata.org/grapher/oil-production-by-country',\n",
    "    'coal-production':'https://ourworldindata.org/grapher/coal-production-by-country',\n",
    "    'gas-production':'https://ourworldindata.org/grapher/gas-production-by-country',\n",
    "    'gdp-capita-vs-energy-use':'https://ourworldindata.org/grapher/energy-use-per-capita-vs-gdp-per-capita',\n",
    "    'gas-consumption':'https://ourworldindata.org/grapher/gas-consumption-by-country', \n",
    "    'oil-consumption':'https://ourworldindata.org/grapher/oil-consumption-by-country',\n",
    "    'natural-gas-price':'https://ourworldindata.org/grapher/natural-gas-prices',\n",
    "    'oil-price':'https://ourworldindata.org/grapher/crude-oil-prices'    \n",
    "}"
   ]
  },
  {
   "cell_type": "code",
   "execution_count": 7,
   "id": "4a9303dc-9b86-482f-b700-92116aad21ce",
   "metadata": {},
   "outputs": [],
   "source": [
    "download_xpath_dict = {\n",
    "    'oil-production':'/html/body/main/figure/div/div[4]/div/nav/ul/li[5]/a',\n",
    "    'coal-production':'/html/body/main/figure/div/div[4]/div/nav/ul/li[5]/a',\n",
    "    'gas-production':'/html/body/main/figure/div/div[4]/div/nav/ul/li[5]/a',\n",
    "    'coal-prices':'/html/body/main/figure/div/div[4]/div[2]/nav/ul/li[4]/a',\n",
    "    'gdp-capita-vs-energy-use':'/html/body/main/figure/div/div[4]/div[2]/nav/ul/li[4]/a',\n",
    "    'gas-consumption':'/html/body/main/figure/div/div[3]/div[2]/nav/ul/li[5]/a',\n",
    "    'oil-consumption':'/html/body/main/figure/div/div[3]/div[2]/nav/ul/li[5]/a',\n",
    "    'natural-gas-price':'/html/body/main/figure/div/div[4]/div/nav/ul/li[4]',\n",
    "    'oil-price':'/html/body/main/figure/div/div[3]/div/nav/ul/li[4]/a'\n",
    "    \n",
    "}\n",
    "\n",
    "csv_xpath_dict = {\n",
    "    'oil-production':'/html/body/main/figure/div/div[5]/div/div[2]/div/button/div[1]',\n",
    "    'coal-production':'/html/body/main/figure/div/div[5]/div/div[2]/div/button/div[1]',\n",
    "    'gas-production':'/html/body/main/figure/div/div[5]/div/div[2]/div/button/div[1]',\n",
    "    'coal-prices':'/html/body/main/figure/div/div[5]/div/div[2]/div/button/div[1]',\n",
    "    'gdp-capita-vs-energy-use':'/html/body/main/figure/div/div[5]/div/div[2]/div/button/div[1]',\n",
    "    'gas-consumption':'/html/body/main/figure/div/div[4]/div/div[2]/div/button/div[1]',\n",
    "    'oil-consumption':'/html/body/main/figure/div/div[4]/div/div[2]/div/button/div[1]',\n",
    "    'natural-gas-price':'/html/body/main/figure/div/div[5]/div/div[2]/div/button/div[1]',\n",
    "    'oil-price':'/html/body/main/figure/div/div[4]/div/div[2]/div/button/div[1]'\n",
    "}"
   ]
  },
  {
   "cell_type": "code",
   "execution_count": 8,
   "id": "34c05bf3-b65d-4962-b023-329e76c42988",
   "metadata": {},
   "outputs": [],
   "source": [
    "#while True:\n",
    "#    try:\n",
    "#        driver.find_element(\"xpath\",cookies_xpath).click()\n",
    "#        False\n",
    "#    except:\n",
    "#        True\n",
    "    #driver.find_element(\"xpath\",download_button_xpath).click()\n",
    "#driver.find_element(\"xpath\",download_csv_xpath).click()\n",
    "#/html/body/main/figure/div/div[5]/div/div[2]/div/button/div[1]"
   ]
  },
  {
   "cell_type": "code",
   "execution_count": 9,
   "id": "eb30b40e-3b0f-4b0b-aaf2-c9b8d2826f1e",
   "metadata": {},
   "outputs": [],
   "source": [
    "base_path = 'C:\\\\Users\\\\guilh\\\\TM\\\\var_comodity\\\\JSONS\\\\OurWorldInData\\\\'"
   ]
  },
  {
   "cell_type": "code",
   "execution_count": 10,
   "id": "57db60ce-816c-4ff0-80a2-0bda8e1663bf",
   "metadata": {},
   "outputs": [],
   "source": [
    "for keys in url_dict.keys():\n",
    "    path = base_path\n",
    "    folder_name = path+keys        \n",
    "    \n",
    "    if not os.path.exists(folder_name):\n",
    "        os.mkdir(folder_name)\n",
    "    \n",
    "    else:    \n",
    "        pass"
   ]
  },
  {
   "cell_type": "code",
   "execution_count": 11,
   "id": "269b8b21-14df-40d1-8c80-fd416f9debe1",
   "metadata": {
    "tags": []
   },
   "outputs": [],
   "source": [
    "for folder,url in url_dict.items():\n",
    "    driver.get(url)\n",
    "    \n",
    "    folder_path = base_path+folder+'\\\\'\n",
    "    \n",
    "    time.sleep(0.5)\n",
    "    download_button = download_xpath_dict[folder]\n",
    "    driver.find_element(\"xpath\",download_button).click()\n",
    "    \n",
    "    time.sleep(2)\n",
    "    csv_xpath = csv_xpath_dict[folder]\n",
    "    for_click = driver.find_element(\"xpath\",csv_xpath)\n",
    "    for_click.click()\n",
    "    \n",
    "    download_wait(f'{Path.home()}/Downloads/');\n",
    "    \n",
    "    df = get_file_dataframe()\n",
    "    column_name = df.columns[-1]\n",
    "    countries = df.Code.unique()\n",
    "    \n",
    "    time.sleep(3)\n",
    "    \n",
    "    for i in countries:\n",
    "        \n",
    "        name = folder+'_'+str(i)+'_thw_close_y1.json'\n",
    "        complete_path = folder_path+name\n",
    "       # print(name)\n",
    "        filtro = (df.Code == i)\n",
    "        \n",
    "        df_filtro = df[filtro]\n",
    "        df_json = df_filtro[['Year',column_name]]\n",
    "        df2 = df_json\n",
    "                \n",
    "        if not df.empty:\n",
    "        #    print(df.empty)\n",
    "            df2.to_json(complete_path ,indent =1)\n",
    "        else:\n",
    "            pass\n",
    "            "
   ]
  },
  {
   "cell_type": "code",
   "execution_count": 12,
   "id": "b58ed91e-cf09-4f79-8d9e-4ebd56fbd5bc",
   "metadata": {},
   "outputs": [],
   "source": [
    "delete_files_used(len(list(url_dict.keys())))"
   ]
  },
  {
   "cell_type": "code",
   "execution_count": 13,
   "id": "bbbf2133-3bbd-4468-b668-9a5fe31b960d",
   "metadata": {},
   "outputs": [],
   "source": [
    "driver.close()"
   ]
  }
 ],
 "metadata": {
  "kernelspec": {
   "display_name": "Python 3 (ipykernel)",
   "language": "python",
   "name": "python3"
  },
  "language_info": {
   "codemirror_mode": {
    "name": "ipython",
    "version": 3
   },
   "file_extension": ".py",
   "mimetype": "text/x-python",
   "name": "python",
   "nbconvert_exporter": "python",
   "pygments_lexer": "ipython3",
   "version": "3.11.1"
  }
 },
 "nbformat": 4,
 "nbformat_minor": 5
}
