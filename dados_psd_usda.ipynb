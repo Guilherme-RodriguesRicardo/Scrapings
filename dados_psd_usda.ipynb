{
 "cells": [
  {
   "cell_type": "code",
   "execution_count": 1,
   "id": "bcae4c5f-c03d-44b9-b8fa-f834809a9a36",
   "metadata": {},
   "outputs": [],
   "source": [
    "# Importando libraries\n",
    "\n",
    "from webdriver_manager.chrome import ChromeDriverManager\n",
    "from selenium import webdriver\n",
    "import pandas as pd\n",
    "import selenium\n",
    "from webdriver_manager.chrome import ChromeDriverManager\n",
    "import chromedriver_autoinstaller\n",
    "import requests\n",
    "import os\n",
    "import glob\n",
    "import zipfile\n",
    "import time\n",
    "from pathlib import Path\n"
   ]
  },
  {
   "cell_type": "code",
   "execution_count": 2,
   "id": "23f30117-fb46-4bb4-9bbe-69e243ed761e",
   "metadata": {},
   "outputs": [],
   "source": [
    "# setup-selenium\n",
    "\n",
    "chromedriver_autoinstaller.install()  # Check if the current version of chromedriver exists\n",
    "                                      # and if it doesn't exist, download it automatically,\n",
    "                                      # then add chromedriver to path\n",
    "\n",
    "driver = webdriver.Chrome()\n",
    "driver.maximize_window()"
   ]
  },
  {
   "cell_type": "code",
   "execution_count": 3,
   "id": "f3ff749c-e1b0-41f2-b086-59e28b69730c",
   "metadata": {},
   "outputs": [],
   "source": [
    "url = 'https://apps.fas.usda.gov/psdonline/app/index.html#/app/downloads'\n",
    "driver.get(url)"
   ]
  },
  {
   "cell_type": "code",
   "execution_count": 4,
   "id": "84ca0e89-162a-4b61-9b4c-e35fa0e8d5af",
   "metadata": {},
   "outputs": [],
   "source": [
    "dataset_xpath = '/html/body/div[2]/div[3]/div/div[2]/div/ul/li[3]/a/uib-tab-heading'\n",
    "driver.find_element(\"xpath\",dataset_xpath).click()"
   ]
  },
  {
   "cell_type": "code",
   "execution_count": 5,
   "id": "975e0d18-5eaf-4b34-82dc-51c0e2de5683",
   "metadata": {},
   "outputs": [],
   "source": [
    "# all paths\n",
    "xpath_dict = {\n",
    "    \n",
    "            'coffee'      : '/html/body/div[2]/div[3]/div/div[2]/div/div/div[3]/div/div[2]/datasets/div/div[2]/div/div/table/tbody/tr[3]/td[3]/a'  ,\n",
    "            'cotton'     : '/html/body/div[2]/div[3]/div/div[2]/div/div/div[3]/div/div[2]/datasets/div/div[2]/div/div/table/tbody/tr[4]/td[3]/a'  ,\n",
    "            'dairy'      : '/html/body/div[2]/div[3]/div/div[2]/div/div/div[3]/div/div[2]/datasets/div/div[2]/div/div/table/tbody/tr[5]/td[3]/a'  ,\n",
    "            'grain'      : '/html/body/div[2]/div[3]/div/div[2]/div/div/div[3]/div/div[2]/datasets/div/div[2]/div/div/table/tbody/tr[8]/td[3]/a'  ,\n",
    "            'livestock'  : '/html/body/div[2]/div[3]/div/div[2]/div/div/div[3]/div/div[2]/datasets/div/div[2]/div/div/table/tbody/tr[10]/td[3]/a' ,\n",
    "            'oilseeds'   : '/html/body/div[2]/div[3]/div/div[2]/div/div/div[3]/div/div[2]/datasets/div/div[2]/div/div/table/tbody/tr[11]/td[3]/a' ,\n",
    "            'russia_data': '/html/body/div[2]/div[3]/div/div[2]/div/div/div[3]/div/div[2]/datasets/div/div[2]/div/div/table/tbody/tr[12]/td[3]/a' ,\n",
    "            'sugar'      : '/html/body/div[2]/div[3]/div/div[2]/div/div/div[3]/div/div[2]/datasets/div/div[2]/div/div/table/tbody/tr[13]/td[3]/a' ,\n",
    "            \n",
    "            }"
   ]
  },
  {
   "cell_type": "code",
   "execution_count": 6,
   "id": "2d764118-8068-4ab9-819b-4fb0b0c44345",
   "metadata": {},
   "outputs": [],
   "source": [
    "def get_name(dir_path):\n",
    "    \n",
    "    with zipfile.ZipFile(dir_path, mode=\"r\") as archive:\n",
    "         for filename in archive.namelist():\n",
    "                return filename\n",
    "\n",
    "\n",
    "def get_file_dataframe():\n",
    "    \n",
    "    list_of_files = glob.glob(f'{Path.home()}/Downloads/*.zip') # * means all if need specific format then *.csv\n",
    "    #print(list_of_files)\n",
    "    latest_file = max(list_of_files, key=os.path.getctime)\n",
    "    filename = get_name(latest_file)\n",
    "    \n",
    "    zf = zipfile.ZipFile(latest_file)\n",
    "    df = pd.read_csv(zf.open(filename))\n",
    "    \n",
    "    return df\n",
    "\n",
    "def delete_files_used(times):\n",
    "    \n",
    "    for i in range(times):\n",
    "        \n",
    "        list_of_files = glob.glob(f'{Path.home()}/Downloads/*.zip') # * means all if need specific format then *.csv\n",
    "        latest_file = max(list_of_files, key=os.path.getctime)\n",
    "        os.remove(latest_file)\n",
    "        #print('ok')\n",
    "        \n",
    "    return \n",
    "\n",
    "def download_wait(path_to_downloads):\n",
    "    seconds = 0\n",
    "    dl_wait = True\n",
    "    while dl_wait and seconds < 20:\n",
    "        time.sleep(1)\n",
    "        dl_wait = False\n",
    "        for fname in os.listdir(path_to_downloads):\n",
    "            if fname.endswith('.crdownload'):\n",
    "                dl_wait = True\n",
    "        seconds += 1\n",
    "    return seconds"
   ]
  },
  {
   "cell_type": "code",
   "execution_count": 7,
   "id": "0f5f82b6-0a91-458d-9690-6e19e33e9f83",
   "metadata": {},
   "outputs": [],
   "source": [
    "data_dict = {}\n",
    "\n",
    "for key, values in xpath_dict.items():\n",
    "    \n",
    "    driver.find_element(\"xpath\",values).click()\n",
    "    download_wait(f'{Path.home()}/Downloads/')\n",
    "    \n",
    "    df = get_file_dataframe()\n",
    "    data_dict[key] = df.copy()\n",
    "    \n",
    "    "
   ]
  },
  {
   "cell_type": "code",
   "execution_count": 8,
   "id": "af35a5c1-781e-45c0-bb49-58b1380b44f7",
   "metadata": {},
   "outputs": [],
   "source": [
    "driver.close()"
   ]
  },
  {
   "cell_type": "code",
   "execution_count": 9,
   "id": "73c41bb7-37c0-48eb-82e4-45469d9f68e6",
   "metadata": {},
   "outputs": [],
   "source": [
    "n_times = len(xpath_dict)\n",
    "\n",
    "delete_files_used(n_times);"
   ]
  },
  {
   "cell_type": "code",
   "execution_count": 10,
   "id": "9e9547fa-fd1a-482f-b397-5f5e31f3c3e3",
   "metadata": {},
   "outputs": [],
   "source": [
    "for values in data_dict.values():\n",
    "    \n",
    "    values.Attribute_Description = values.Attribute_Description.apply(lambda x: x.lower().replace(' ','-').replace(\"''\",\"\").replace(\"/\",\"\").replace(\" \",\"-\"))\n",
    "    values.Commodity_Description = values.Commodity_Description.apply(lambda x: x.lower().replace(', ','-').replace(\"''\",\"\").replace(\"/\",\"\").replace(\" \",\"-\"))\n",
    "    values.Country_Code = values.Country_Code.apply(lambda x : str(x).lower().replace(\"''\",\"\").replace(\"/\",\"\").replace(\" \",\"-\"))\n",
    "    values.Unit_Description = values.Unit_Description.apply(lambda x: str(x).lower().replace(\"''\",\"\").replace(\"/\",\"\").replace(\" \",\"-\"))\n",
    "    \n",
    "    "
   ]
  },
  {
   "cell_type": "code",
   "execution_count": 11,
   "id": "740cf246-535b-410e-8369-b880b0dab67b",
   "metadata": {},
   "outputs": [],
   "source": [
    "base_path = 'C:\\\\Users\\\\guilh\\\\TM\\\\var_comodity\\\\JSONS'"
   ]
  },
  {
   "cell_type": "code",
   "execution_count": 12,
   "id": "a59d661e-fbae-4cb3-a026-38424f63c645",
   "metadata": {},
   "outputs": [],
   "source": [
    "each_loop_time = {}"
   ]
  },
  {
   "cell_type": "code",
   "execution_count": 13,
   "id": "3e3c02b9-4ce8-4d2b-b8c8-4eb714dd11b2",
   "metadata": {},
   "outputs": [
    {
     "name": "stdout",
     "output_type": "stream",
     "text": [
      "coffee\n",
      "0.1669391671816508\n",
      "cotton\n",
      "0.23155717849731444\n",
      "dairy\n",
      "0.5807786186536154\n",
      "grain\n",
      "11.760514756043753\n",
      "livestock\n",
      "2.157295258839925\n",
      "oilseeds\n",
      "51.87662766377131\n",
      "russia_data\n",
      "0.00028477907180786134\n",
      "sugar\n",
      "0.5997870842615763\n"
     ]
    }
   ],
   "source": [
    "#Transformar tudo em JSON! \n",
    "\n",
    "\n",
    "for keys,values in data_dict.items():\n",
    "    print(keys)\n",
    "    start = time.time()\n",
    "    \n",
    "    custom_path = f\"\\\\USDA\\\\{keys}\\\\\"     \n",
    "    path = base_path + custom_path\n",
    "    \n",
    "    for commodity in values.Commodity_Description.unique():\n",
    "        comm_filter = (values.Commodity_Description == commodity)\n",
    "        \n",
    "        for code in values.Country_Code.unique():\n",
    "            country_filter = (values.Country_Code == code)\n",
    "            \n",
    "            for attribute in values.Attribute_Description.unique():\n",
    "                attr_filter = (values.Attribute_Description == attribute)\n",
    "                \n",
    "                filter_df = comm_filter & country_filter & attr_filter\n",
    "                df_filter = values[filter_df]\n",
    "                \n",
    "                unit = str(df_filter.Unit_Description.unique()).replace('[',\"\").replace(\"]\",\"\").replace(\"'\",\"\")\n",
    "                \n",
    "                name = commodity+'-'+attribute+'_'+code+'_'+'und'+'_y1.json'\n",
    "                name = name.replace('(',\"\").replace(\")\",\"\")\n",
    "                complete_path = path+name\n",
    "    \n",
    "                df_to_json = df_filter[['Market_Year','Value']]\n",
    "                #df_to_json.to_json(complete_path,indent=1)\n",
    "                df = df_to_json\n",
    "                if not df.empty:\n",
    "            #    print(df.empty)\n",
    "                    df.to_json(complete_path,indent =1)\n",
    "                else:\n",
    "                    pass\n",
    "    \n",
    "    stop = time.time()\n",
    "    duration = (stop - start)/60\n",
    "    print(duration)\n",
    "    each_loop_time[keys] = duration\n",
    "    "
   ]
  },
  {
   "cell_type": "code",
   "execution_count": 14,
   "id": "809d1ea0-5baf-4a13-82f1-7e6938acf45d",
   "metadata": {},
   "outputs": [],
   "source": [
    "tempo_p_rodar = pd.DataFrame(data = each_loop_time, index=['tempo']).T.tempo.sum()"
   ]
  },
  {
   "cell_type": "code",
   "execution_count": 15,
   "id": "29229e5d-12cb-4304-bcd6-52ec3eb8e5f0",
   "metadata": {},
   "outputs": [],
   "source": [
    "#tempo_p_rodar"
   ]
  },
  {
   "cell_type": "code",
   "execution_count": null,
   "id": "7c3e4e55-3e2f-4e00-bd88-13a9f17b14a9",
   "metadata": {},
   "outputs": [],
   "source": []
  },
  {
   "cell_type": "code",
   "execution_count": null,
   "id": "9e0b505b-d3bf-4691-940f-29f9f29f0a51",
   "metadata": {},
   "outputs": [],
   "source": []
  },
  {
   "cell_type": "code",
   "execution_count": null,
   "id": "b91e293c-4632-45f4-a520-85c1c3a36236",
   "metadata": {},
   "outputs": [],
   "source": []
  }
 ],
 "metadata": {
  "kernelspec": {
   "display_name": "Python 3 (ipykernel)",
   "language": "python",
   "name": "python3"
  },
  "language_info": {
   "codemirror_mode": {
    "name": "ipython",
    "version": 3
   },
   "file_extension": ".py",
   "mimetype": "text/x-python",
   "name": "python",
   "nbconvert_exporter": "python",
   "pygments_lexer": "ipython3",
   "version": "3.11.1"
  }
 },
 "nbformat": 4,
 "nbformat_minor": 5
}
