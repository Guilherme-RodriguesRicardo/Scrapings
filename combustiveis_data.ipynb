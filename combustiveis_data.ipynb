{
 "cells": [
  {
   "cell_type": "code",
   "execution_count": 1,
   "id": "d2ab2e8b-d1f8-455b-8c95-1e044bcdd469",
   "metadata": {},
   "outputs": [],
   "source": [
    "import pandas as pd\n",
    "import os\n",
    "import time\n",
    "\n",
    "try:\n",
    "    from DadosAbertosBrasil import ipea\n",
    "\n",
    "except:\n",
    "    !pip install DadosAbertosBrasil"
   ]
  },
  {
   "cell_type": "code",
   "execution_count": null,
   "id": "07e3f172-9ed6-44c1-be3f-01a3f8b415b2",
   "metadata": {},
   "outputs": [],
   "source": []
  }
 ],
 "metadata": {
  "kernelspec": {
   "display_name": "Python 3 (ipykernel)",
   "language": "python",
   "name": "python3"
  },
  "language_info": {
   "codemirror_mode": {
    "name": "ipython",
    "version": 3
   },
   "file_extension": ".py",
   "mimetype": "text/x-python",
   "name": "python",
   "nbconvert_exporter": "python",
   "pygments_lexer": "ipython3",
   "version": "3.11.1"
  }
 },
 "nbformat": 4,
 "nbformat_minor": 5
}
