{
 "cells": [
  {
   "cell_type": "code",
   "execution_count": 1,
   "id": "a5c75662-cbea-452a-9171-fcdce05f3b8b",
   "metadata": {},
   "outputs": [],
   "source": [
    "import pandas as pd\n",
    "import datetime\n",
    "from bcb import sgs\n",
    "import pandas_datareader as pdr\n",
    "\n",
    "\n",
    "pd.options.display.float_format = '{:,.4f}'.format"
   ]
  },
  {
   "cell_type": "code",
   "execution_count": 2,
   "id": "8c7d6de2-a1c0-471b-966e-ebf0b5cb6bb5",
   "metadata": {},
   "outputs": [],
   "source": [
    "def get_FRED(code, start, end):\n",
    "    df = pdr.DataReader(code, 'fred',start, end)\n",
    "    \n",
    "    return df"
   ]
  },
  {
   "cell_type": "code",
   "execution_count": 3,
   "id": "0882df31-849f-4300-b24b-1ec3687f9322",
   "metadata": {},
   "outputs": [],
   "source": [
    "start = datetime.datetime (1980, 1, 1)\n",
    "end = datetime.date.today()"
   ]
  },
  {
   "cell_type": "code",
   "execution_count": 4,
   "id": "be2ca6b4-87ce-4fff-a03f-fd061f6d2abf",
   "metadata": {},
   "outputs": [],
   "source": [
    "base_path = 'C:\\\\Users\\\\guilh\\\\TM\\\\var_comodity\\\\JSONS\\\\MACRO\\\\'"
   ]
  },
  {
   "cell_type": "code",
   "execution_count": 5,
   "id": "12ec2172-ea8e-4e5c-9f9c-e6c7b33a8c11",
   "metadata": {},
   "outputs": [],
   "source": [
    "code_dict = {'dolar_cn':'DEXCHUS','dolar_eu':'DEXUSEU',\n",
    "            'dolar_au':'DEXUSAL','dolar_ca':'EXCAUS',\n",
    "            'dolar_in':'DEXINUS','dolar_brl':'DEXBZUS'}\n",
    "\n",
    "unit_dict = {'dolar_cn':'USD-RMB','dolar_eu':'USD-EU',\n",
    "             'dolar_au':'USD-AUS','dolar_ca':'USD-CAD',\n",
    "             'dolar_in':'USD-INR','dolar_brl':'USD-BRL'}"
   ]
  },
  {
   "cell_type": "code",
   "execution_count": 6,
   "id": "cb6468ab-5235-424a-98aa-e1c82e9fc7ae",
   "metadata": {},
   "outputs": [],
   "source": [
    "data_dict = {}\n",
    "\n",
    "for name, code in code_dict.items():\n",
    "    \n",
    "    name_folder = name+\"_\"+unit_dict[name]+'_close_d1.json'\n",
    "    path_folder = base_path+name_folder\n",
    "    \n",
    "    df = get_FRED(code,start,end)\n",
    "    if not df.empty:\n",
    "    #    print(df.empty)\n",
    "        df.to_json(path_folder,indent =1)\n",
    "        data_dict[code]  = df\n",
    "    else:\n",
    "        pass"
   ]
  }
 ],
 "metadata": {
  "kernelspec": {
   "display_name": "Python 3 (ipykernel)",
   "language": "python",
   "name": "python3"
  },
  "language_info": {
   "codemirror_mode": {
    "name": "ipython",
    "version": 3
   },
   "file_extension": ".py",
   "mimetype": "text/x-python",
   "name": "python",
   "nbconvert_exporter": "python",
   "pygments_lexer": "ipython3",
   "version": "3.11.1"
  }
 },
 "nbformat": 4,
 "nbformat_minor": 5
}
