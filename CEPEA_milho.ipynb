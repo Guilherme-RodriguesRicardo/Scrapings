{
 "cells": [
  {
   "cell_type": "code",
   "execution_count": 10,
   "id": "2409846a-8e8f-4ddc-b7a6-cc6adea8c4f2",
   "metadata": {},
   "outputs": [],
   "source": [
    "# Importando libraries\n",
    "\n",
    "import selenium\n",
    "from selenium import webdriver\n",
    "import chromedriver_autoinstaller\n",
    "from webdriver_manager.chrome import ChromeDriverManager\n",
    "\n",
    "import requests\n",
    "import os\n",
    "from pathlib import Path\n",
    "import glob\n",
    "\n",
    "import pandas as pd\n",
    "import time\n",
    "import xlrd\n"
   ]
  },
  {
   "cell_type": "code",
   "execution_count": 11,
   "id": "91967cce-6573-4c6b-bebb-04022cae15b1",
   "metadata": {},
   "outputs": [],
   "source": [
    "def get_file_dataframe():\n",
    "    \n",
    "    list_of_files = glob.glob(f'{Path.home()}\\Downloads\\*.xls')\n",
    "    latest_file = max(list_of_files, key=os.path.getctime)\n",
    "    \n",
    "    filename = latest_file\n",
    "\n",
    "    \n",
    "    try:\n",
    "        #print('aqui')\n",
    "        workbook =  xlrd.open_workbook_xls(filename, ignore_workbook_corruption=True)\n",
    "        df = pd.read_excel(workbook,sheet_name = 0)\n",
    "        #print('dentro do try')\n",
    "        return df\n",
    "    except:\n",
    "        return print('DEU RUIM')\n",
    "    \n",
    "def delete_files_used(times):\n",
    "    \n",
    "    for i in range(times):\n",
    "        \n",
    "        list_of_files = glob.glob(f'{Path.home()}/Downloads/*.xls')\n",
    "        latest_file = max(list_of_files, key=os.path.getctime)\n",
    "        \n",
    "        os.remove(latest_file)\n",
    "        \n",
    "    return True;\n",
    "\n",
    "def download_wait(path_to_downloads):\n",
    "    \n",
    "    seconds = 0\n",
    "    dl_wait = True\n",
    "    \n",
    "    while dl_wait and seconds < 20:\n",
    "        \n",
    "        time.sleep(1)\n",
    "        dl_wait = False\n",
    "        \n",
    "        for fname in os.listdir(path_to_downloads):\n",
    "            if fname.endswith('.crdownload'):\n",
    "                dl_wait = True\n",
    "                \n",
    "        seconds += 1\n",
    "        \n",
    "    return seconds"
   ]
  },
  {
   "cell_type": "code",
   "execution_count": null,
   "id": "70f7be44-b626-499d-acbf-1e4a8e1f6ee5",
   "metadata": {},
   "outputs": [],
   "source": []
  },
  {
   "cell_type": "code",
   "execution_count": 12,
   "id": "bb4681aa-be1b-41c2-8bed-6da85123a29b",
   "metadata": {},
   "outputs": [],
   "source": [
    "ind_cotton_oito_dias_xpath_list = [\n",
    "    '//*[@id=\"imagenet-content\"]/div[2]/div[2]/div[1]/div[3]/a[4]',\n",
    "    '//*[@id=\"imagenet-content\"]/div[3]/div[2]/div/a[2]'\n",
    "]\n",
    "\n",
    "ind_cotton_vista_xpath_list = [\n",
    "    '//*[@id=\"imagenet-content\"]/div[2]/div[2]/div[1]/div[3]/a[4]',\n",
    "    '//*[@id=\"imagenet-content\"]/div[3]/div[2]/div/a[3]'\n",
    "]\n",
    "\n",
    "ind_cotton_quinze_dias_xpath_list =  [ \n",
    "    '//*[@id=\"imagenet-content\"]/div[2]/div[2]/div[1]/div[3]/a[4]',\n",
    "    '//*[@id=\"imagenet-content\"]/div[3]/div[2]/div/a[4]'\n",
    "]\n",
    "\n",
    "ind_cotton_trinta_dias_xpath_list = ['//*[@id=\"imagenet-content\"]/div[2]/div[2]/div[1]/div[3]/a[4]'\n",
    "                                    ]\n",
    "\n"
   ]
  },
  {
   "cell_type": "code",
   "execution_count": 13,
   "id": "6d3ce2c5-b832-4948-907a-896c3da631c4",
   "metadata": {},
   "outputs": [],
   "source": [
    "dados_dict = {\n",
    "    'ind-cotton-oito-dias'        : ind_cotton_oito_dias_xpath_list ,\n",
    "    'ind-cotton-vista' : ind_cotton_vista_xpath_list ,\n",
    "    'ind-cotton-quinze-dias'     : ind_cotton_quinze_dias_xpath_list     ,\n",
    "    'ind-cotton-trinta-dias'    : ind_cotton_trinta_dias_xpath_list    ,\n",
    "}\n"
   ]
  },
  {
   "cell_type": "code",
   "execution_count": 14,
   "id": "6033b3eb-bbe4-46c9-b2d8-eb98290f9bf7",
   "metadata": {},
   "outputs": [],
   "source": [
    "\n",
    "ind_cotton_oito_dias_code_list   = ['algodao-pluma-oito-dias']\n",
    "ind_cotton_vista_code_list       = ['algodao-pluma-vista'] \n",
    "ind_cotton_quinze_dias_code_list = ['algodao-pluma-quinze-dias' ]\n",
    "ind_cotton_trinta_dias_code_list = ['algodao-pluma-trinta-dias']\n"
   ]
  },
  {
   "cell_type": "code",
   "execution_count": 15,
   "id": "6917c0be-3b46-41e4-b42a-be158b9ee2aa",
   "metadata": {},
   "outputs": [],
   "source": [
    "encoder_dict =  {\n",
    "    'ind-cotton-oito-dias'        : ind_cotton_oito_dias_code_list        ,\n",
    "    'ind-cotton-vista' : ind_cotton_vista_code_list ,\n",
    "    'ind-cotton-quinze-dias'     : ind_cotton_quinze_dias_code_list     ,\n",
    "    'ind-cotton-trinta-dias'    : ind_cotton_trinta_dias_code_list         \n",
    "}"
   ]
  },
  {
   "cell_type": "code",
   "execution_count": 16,
   "id": "33237e4e-70e9-445e-ab2a-489746fd288f",
   "metadata": {},
   "outputs": [
    {
     "name": "stderr",
     "output_type": "stream",
     "text": [
      "C:\\Users\\guilh\\AppData\\Local\\Temp\\ipykernel_5152\\4013497868.py:4: DeprecationWarning: executable_path has been deprecated, please pass in a Service object\n",
      "  driver = webdriver.Edge(executable_path = 'C:\\\\Users\\\\Downloads\\\\edgedriver_win64\\\\msedgedriver.exe');\n"
     ]
    }
   ],
   "source": [
    "# setup-selenium\n",
    "\n",
    "\n",
    "driver = webdriver.Edge(executable_path = 'C:\\\\Users\\\\Downloads\\\\edgedriver_win64\\\\msedgedriver.exe');\n",
    "# Check if the current version of chromedriver exists\n",
    "# and if it doesn't exist, download it automatically,\n",
    "# then add chromedriver to path\n",
    "driver.maximize_window()"
   ]
  },
  {
   "cell_type": "code",
   "execution_count": 17,
   "id": "7ca5a1a6-b8b5-49d2-9362-542324d6e2c9",
   "metadata": {},
   "outputs": [],
   "source": [
    "url = 'https://www.cepea.esalq.usp.br/br/indicador/algodao.aspx'\n",
    "driver.get(url)\n",
    "\n",
    "data_dict = {}\n"
   ]
  },
  {
   "cell_type": "code",
   "execution_count": 18,
   "id": "fd84bd8b-24bc-4b4b-9cfa-6e87a1cc1eaf",
   "metadata": {},
   "outputs": [],
   "source": [
    "for keys, values in encoder_dict.items():\n",
    "    \n",
    "    lista_xpath = dados_dict[keys]\n",
    "    url = lista_xpath[0]\n",
    "    \n",
    "    driver.find_element('xpath',url).click()\n",
    "    \n",
    "    list_df = lista_xpath[1:]\n",
    "\n",
    "    for df_xpath,encoder in zip(list_df,values):\n",
    "        \n",
    "        \n",
    "        name = keys+'-'+encoder+'-sp_brl_close_d1.json'\n",
    "        \n",
    "        driver.find_element('xpath',df_xpath).click()\n",
    "        download_wait(f'{Path.home()}/Downloads/')\n",
    "        df = get_file_dataframe()\n",
    "        data_dict[name] = df\n",
    "        delete_files_used(1)\n",
    "        \n",
    "    \n",
    "    \n",
    "    "
   ]
  },
  {
   "cell_type": "code",
   "execution_count": 19,
   "id": "8fab4498-0ae5-437a-b11c-84e578019602",
   "metadata": {
    "tags": []
   },
   "outputs": [],
   "source": [
    "for values in data_dict.values():\n",
    "    values.drop(index = values.index[0:3],axis = 0,inplace = True)\n",
    "    values.drop(columns = values.columns[-1],axis =1,inplace = True)\n",
    "    values.rename(columns = {values.columns[0]:'ano',values.columns[-1]:'valor-brl'},inplace = True)"
   ]
  },
  {
   "cell_type": "code",
   "execution_count": 20,
   "id": "904b5390-dbea-4799-98c9-1945c5381038",
   "metadata": {},
   "outputs": [],
   "source": [
    "base_path = 'C:\\\\Users\\\\guilh\\\\TM\\\\var_comodity\\\\JSONS\\\\CEPEA\\\\'\n",
    "for name, df in data_dict.items():\n",
    "    full_path = base_path+name\n",
    "    if not df.empty:\n",
    "    #    print(df.empty)\n",
    "        df.to_json(full_path,indent =1)\n",
    "    else:\n",
    "        pass\n"
   ]
  },
  {
   "cell_type": "code",
   "execution_count": null,
   "id": "de3ce43b-1eb4-40b9-8bb9-b590b0851aa9",
   "metadata": {},
   "outputs": [],
   "source": []
  },
  {
   "cell_type": "code",
   "execution_count": 21,
   "id": "20772092-4446-4551-8063-a23101c9d3c2",
   "metadata": {},
   "outputs": [],
   "source": [
    "driver.close()"
   ]
  },
  {
   "cell_type": "code",
   "execution_count": null,
   "id": "bc8726ed-465b-4ddb-aa20-cf75b67ad0d4",
   "metadata": {},
   "outputs": [],
   "source": []
  },
  {
   "cell_type": "code",
   "execution_count": null,
   "id": "9aa159ff-f56d-4d3b-971b-d06937d2dae3",
   "metadata": {},
   "outputs": [],
   "source": []
  },
  {
   "cell_type": "code",
   "execution_count": null,
   "id": "8b040856-1f91-4dd4-a0b2-e723f1cf72cb",
   "metadata": {},
   "outputs": [],
   "source": []
  },
  {
   "cell_type": "code",
   "execution_count": null,
   "id": "145876d2-6287-4044-ae64-26a209424e45",
   "metadata": {},
   "outputs": [],
   "source": []
  }
 ],
 "metadata": {
  "kernelspec": {
   "display_name": "Python 3 (ipykernel)",
   "language": "python",
   "name": "python3"
  },
  "language_info": {
   "codemirror_mode": {
    "name": "ipython",
    "version": 3
   },
   "file_extension": ".py",
   "mimetype": "text/x-python",
   "name": "python",
   "nbconvert_exporter": "python",
   "pygments_lexer": "ipython3",
   "version": "3.11.1"
  }
 },
 "nbformat": 4,
 "nbformat_minor": 5
}
