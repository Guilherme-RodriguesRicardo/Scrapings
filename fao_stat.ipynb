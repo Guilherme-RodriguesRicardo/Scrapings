{
 "cells": [
  {
   "cell_type": "code",
   "execution_count": 1,
   "id": "77493f9a-198c-42a8-b1c5-d0021525c714",
   "metadata": {},
   "outputs": [],
   "source": [
    "import faostat\n",
    "import pandas as pd\n",
    "import os"
   ]
  },
  {
   "cell_type": "code",
   "execution_count": 2,
   "id": "9e5c22e4-c2bc-42b2-9fca-787f13cda43e",
   "metadata": {
    "tags": []
   },
   "outputs": [],
   "source": [
    "#faostat.list_datasets_df(https_proxy=None)"
   ]
  },
  {
   "cell_type": "code",
   "execution_count": 3,
   "id": "ef57f191-2e6c-40e5-a2ad-785bcaf74fbe",
   "metadata": {},
   "outputs": [],
   "source": [
    "base_path = 'C:\\\\Users\\\\guilh\\\\TM\\\\var_comodity\\\\JSONS\\\\FAO\\\\'"
   ]
  },
  {
   "cell_type": "code",
   "execution_count": 4,
   "id": "a6ae8c50-f285-4474-af79-6bcb27297cec",
   "metadata": {
    "tags": []
   },
   "outputs": [],
   "source": [
    "#faostat.get_items('QCL', https_proxy=None)"
   ]
  },
  {
   "cell_type": "code",
   "execution_count": 5,
   "id": "ee7106d7-4f56-42f3-b35a-a63edeb1e691",
   "metadata": {},
   "outputs": [],
   "source": [
    "#'Raw hides and skins of buffaloes': '957',\n",
    "#'Raw hides and skins of cattle': '919',\n",
    "#'Raw hides and skins of goats or kids': '1025',\n",
    "#'Raw hides and skins of sheep or lambs': '995','Raw silk': '1186'\n",
    "#'Shorn wool, greasy, including fleece-washed shorn wool': '987',\n",
    "#'Wheat': '15',"
   ]
  },
  {
   "cell_type": "code",
   "execution_count": 6,
   "id": "497a26b2-8dde-47b1-b115-aedc5553a7e7",
   "metadata": {},
   "outputs": [],
   "source": [
    "commodity_dict = {'Wheat': '15','Shorn wool, greasy, including fleece-washed shorn wool': '987',\n",
    "                 'Raw hides and skins of sheep or lambs': '995','Raw silk': '1186',\n",
    "                 'Raw hides and skins of goats or kids': '1025',\n",
    "                 'Raw hides and skins of cattle': '919',\n",
    "                 'Raw hides and skins of buffaloes': '957',\n",
    "                  'Cocoa beans': '661'}"
   ]
  },
  {
   "cell_type": "code",
   "execution_count": 7,
   "id": "945abd1e-0438-4ba6-b78b-bde9daa3039b",
   "metadata": {},
   "outputs": [],
   "source": [
    "var_list = list(commodity_dict.keys())"
   ]
  },
  {
   "cell_type": "code",
   "execution_count": 8,
   "id": "dac1dbdd-8b6f-444e-b26d-51b8c7abb3de",
   "metadata": {},
   "outputs": [],
   "source": [
    "for var_comm in var_list:\n",
    "    path = base_path\n",
    "    folder_name = path+var_comm        \n",
    "    if not os.path.exists(folder_name):\n",
    "        os.mkdir(folder_name)\n",
    "    else:    \n",
    "        pass"
   ]
  },
  {
   "cell_type": "code",
   "execution_count": 9,
   "id": "18450b82-6f73-4055-ba3d-1fbc328a4ecc",
   "metadata": {
    "tags": []
   },
   "outputs": [],
   "source": [
    "columns_FAO = ['Domain Code','Domain','Area Code (FAO)','Area',\n",
    "           'Element Code','Element','Item Code','Item',\n",
    "           'Year Code','Year','Unit','Value'\n",
    "]\n",
    "\n"
   ]
  },
  {
   "cell_type": "code",
   "execution_count": 10,
   "id": "13cb0757-e864-4bb0-a0af-168fdb3c4c3c",
   "metadata": {},
   "outputs": [],
   "source": [
    "for keys, values in commodity_dict.items():\n",
    "    \n",
    "    path = base_path+keys+'\\\\'\n",
    "    name = keys.lower().replace(' ',\"-\").replace(\",\",\"\")\n",
    "    tuple_data = faostat.get_data('QCL',pars={'area':[185,100,41,231,230],'items':values})\n",
    "    df_data = pd.DataFrame(tuple_data, columns = columns_FAO)[['Area','Element','Year','Unit','Value']].drop(0,axis =0)\n",
    "    \n",
    "    element_list = df_data.Element.unique()\n",
    "    country_list = df_data.Area.unique()\n",
    "    \n",
    "    for elem in element_list:\n",
    "        \n",
    "        elem_filter = (df_data.Element == elem )\n",
    "        elem = elem.lower().replace(' ',\"-\")\n",
    "        path_elem = path+name+'-'+elem\n",
    "        \n",
    "        for countries in country_list:\n",
    "            \n",
    "            country_filter = (df_data.Area == countries)\n",
    "            countries = countries.lower().replace(' ',\"\")\n",
    "            country_path = path_elem+'_'+countries\n",
    "            \n",
    "            filtro = elem_filter & country_filter\n",
    "            df_filter = df_data[filtro]\n",
    "            df_json = df_filter[['Year','Value']]\n",
    "            unit = str(list(df_filter.Unit.unique()))\n",
    "            \n",
    "            unit_path = country_path+'_'+unit+'_'+'close_y1'\n",
    "            name_path = unit_path+'.json'\n",
    "            name_path = name_path.replace('/','-').replace('[',\"\").replace(']',\"\")\n",
    "            #(name_path)\n",
    "            df = df_json\n",
    "                \n",
    "            if not df.empty:\n",
    "            #    print(df.empty)\n",
    "                df.to_json(name_path ,indent =1)\n",
    "            else:\n",
    "                pass\n",
    "            "
   ]
  },
  {
   "cell_type": "code",
   "execution_count": null,
   "id": "77f5dfe1-b7f8-4bd9-98ad-a6f211624180",
   "metadata": {},
   "outputs": [],
   "source": []
  },
  {
   "cell_type": "code",
   "execution_count": null,
   "id": "3d58cb12-4387-443a-9b27-873b9b6d6046",
   "metadata": {},
   "outputs": [],
   "source": []
  },
  {
   "cell_type": "code",
   "execution_count": null,
   "id": "d2522dcf-3d19-42a1-a8d5-2949b24784ae",
   "metadata": {},
   "outputs": [],
   "source": []
  },
  {
   "cell_type": "code",
   "execution_count": null,
   "id": "bf88ddf3-19f3-4e56-9c31-654e10b3c96b",
   "metadata": {},
   "outputs": [],
   "source": []
  },
  {
   "cell_type": "code",
   "execution_count": null,
   "id": "5e4bd8d4-1eae-43d2-809b-becffd3e5936",
   "metadata": {},
   "outputs": [],
   "source": []
  },
  {
   "cell_type": "code",
   "execution_count": null,
   "id": "840eda16-9f5e-4706-9914-ee85c8fc258c",
   "metadata": {},
   "outputs": [],
   "source": []
  },
  {
   "cell_type": "code",
   "execution_count": null,
   "id": "ef582ef4-8e57-4450-be2e-94d41ffa1ff2",
   "metadata": {},
   "outputs": [],
   "source": []
  },
  {
   "cell_type": "code",
   "execution_count": null,
   "id": "4173b706-8b5a-469b-a0c2-7618f73b13d0",
   "metadata": {},
   "outputs": [],
   "source": []
  },
  {
   "cell_type": "code",
   "execution_count": null,
   "id": "0588ad01-1ea5-4e70-8002-f5a6bc959246",
   "metadata": {},
   "outputs": [],
   "source": []
  },
  {
   "cell_type": "code",
   "execution_count": null,
   "id": "35721de9-c357-40cb-9e46-2b48d8dc7e7f",
   "metadata": {},
   "outputs": [],
   "source": []
  },
  {
   "cell_type": "code",
   "execution_count": null,
   "id": "93e1a149-a37b-43b2-ad79-4de530355ec2",
   "metadata": {},
   "outputs": [],
   "source": []
  },
  {
   "cell_type": "code",
   "execution_count": null,
   "id": "7d2859a5-c9ae-4a8e-ae4d-c765d6ea90c7",
   "metadata": {},
   "outputs": [],
   "source": []
  },
  {
   "cell_type": "code",
   "execution_count": null,
   "id": "b6a07d94-0cb0-4116-80de-b6175e25bebc",
   "metadata": {},
   "outputs": [],
   "source": []
  },
  {
   "cell_type": "code",
   "execution_count": null,
   "id": "441d752a-f1a2-4a77-8431-30ba496ba164",
   "metadata": {},
   "outputs": [],
   "source": []
  }
 ],
 "metadata": {
  "kernelspec": {
   "display_name": "Python 3 (ipykernel)",
   "language": "python",
   "name": "python3"
  },
  "language_info": {
   "codemirror_mode": {
    "name": "ipython",
    "version": 3
   },
   "file_extension": ".py",
   "mimetype": "text/x-python",
   "name": "python",
   "nbconvert_exporter": "python",
   "pygments_lexer": "ipython3",
   "version": "3.11.1"
  }
 },
 "nbformat": 4,
 "nbformat_minor": 5
}
