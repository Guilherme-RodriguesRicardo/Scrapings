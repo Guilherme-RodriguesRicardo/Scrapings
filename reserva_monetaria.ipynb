{
 "cells": [
  {
   "cell_type": "code",
   "execution_count": 1,
   "id": "eeaff9f3-667e-4b2a-be64-7cc4d54ae060",
   "metadata": {},
   "outputs": [],
   "source": [
    "import pandas as pd\n",
    "import datetime\n",
    "from bcb import sgs\n",
    "import pandas_datareader as pdr\n",
    "\n",
    "\n",
    "pd.options.display.float_format = '{:,.4f}'.format"
   ]
  },
  {
   "cell_type": "code",
   "execution_count": 2,
   "id": "59ed2c29-9fe3-4ea1-bc4c-fb546a31c72b",
   "metadata": {},
   "outputs": [],
   "source": [
    "def get_FRED(code, start, end):\n",
    "    df = pdr.DataReader(code, 'fred',start, end)\n",
    "    \n",
    "    return df"
   ]
  },
  {
   "cell_type": "code",
   "execution_count": 3,
   "id": "a829e06c-e5ad-4278-8042-42d07aef272a",
   "metadata": {},
   "outputs": [],
   "source": [
    "start = datetime.datetime (1980, 1, 1)\n",
    "end = datetime.date.today()"
   ]
  },
  {
   "cell_type": "code",
   "execution_count": 4,
   "id": "c7ed0f8d-7e15-426f-99b1-7097c2fffeb6",
   "metadata": {},
   "outputs": [],
   "source": [
    "base_path = 'C:\\\\Users\\\\guilh\\\\TM\\\\var_comodity\\\\JSONS\\\\MACRO\\\\'"
   ]
  },
  {
   "cell_type": "code",
   "execution_count": 5,
   "id": "0b25bd83-2551-4da0-9438-1e65af93b5c3",
   "metadata": {},
   "outputs": [],
   "source": [
    "code_dict = {'M1_us_busd':'M1SL','M2_us_busd':'M2SL',\n",
    "            'M1_cn_rmb':'MYAGM1CNM189N','M2_cn_rmb':'MYAGM2CNM189N'}"
   ]
  },
  {
   "cell_type": "code",
   "execution_count": 6,
   "id": "cc90143b-0669-44c4-90cb-43972d6d8554",
   "metadata": {},
   "outputs": [],
   "source": [
    "for name,code in code_dict.items():\n",
    "    \n",
    "    name_folder = name+'_close_m1.json'\n",
    "    path_folder = base_path+name_folder\n",
    "    \n",
    "    df = get_FRED(code,start,end)\n",
    "    if not df.empty:\n",
    "        df.to_json(path_folder,indent=1)    \n",
    "    else:\n",
    "        pass"
   ]
  },
  {
   "cell_type": "code",
   "execution_count": null,
   "id": "532981ef-1c7c-488e-8af2-cee00e9bcd9e",
   "metadata": {},
   "outputs": [],
   "source": []
  }
 ],
 "metadata": {
  "kernelspec": {
   "display_name": "Python 3 (ipykernel)",
   "language": "python",
   "name": "python3"
  },
  "language_info": {
   "codemirror_mode": {
    "name": "ipython",
    "version": 3
   },
   "file_extension": ".py",
   "mimetype": "text/x-python",
   "name": "python",
   "nbconvert_exporter": "python",
   "pygments_lexer": "ipython3",
   "version": "3.11.1"
  }
 },
 "nbformat": 4,
 "nbformat_minor": 5
}
