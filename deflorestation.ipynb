{
 "cells": [
  {
   "cell_type": "code",
   "execution_count": 1,
   "id": "b221b376-bb70-48f2-bd22-0faf06a6c78c",
   "metadata": {},
   "outputs": [],
   "source": [
    "#Desmatamento: Indonesia\tDeforestation statistics for Indonesia (2022) (mongabay.com)\n",
    "#Desmatamento: Malasia\tDeforestation statistics for Malaysia (2022) (mongabay.com)\n",
    "#Desmatamento: Thailandia\tDeforestation statistics for Thailand (2022) (mongabay.com)\n",
    "#Desmatamento: Brasil\tDownloads – Terrabrasilis (inpe.br)\n"
   ]
  },
  {
   "cell_type": "code",
   "execution_count": null,
   "id": "bbc3032c-71b5-4e23-b55a-8ee90e2ed16f",
   "metadata": {},
   "outputs": [],
   "source": []
  }
 ],
 "metadata": {
  "kernelspec": {
   "display_name": "Python 3 (ipykernel)",
   "language": "python",
   "name": "python3"
  },
  "language_info": {
   "codemirror_mode": {
    "name": "ipython",
    "version": 3
   },
   "file_extension": ".py",
   "mimetype": "text/x-python",
   "name": "python",
   "nbconvert_exporter": "python",
   "pygments_lexer": "ipython3",
   "version": "3.11.1"
  }
 },
 "nbformat": 4,
 "nbformat_minor": 5
}
