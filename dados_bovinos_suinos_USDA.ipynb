{
 "cells": [
  {
   "cell_type": "code",
   "execution_count": 1,
   "id": "ef04fc47-28c8-4381-b04e-97ed934c5c7f",
   "metadata": {},
   "outputs": [],
   "source": [
    "# Importando libraries\n",
    "import pandas as pd\n",
    "import requests\n",
    "import os\n",
    "import urllib\n",
    "import time\n",
    "from pathlib import Path\n",
    "import glob"
   ]
  },
  {
   "cell_type": "code",
   "execution_count": 2,
   "id": "61186cd7-9b67-4127-a000-14a773f7663b",
   "metadata": {},
   "outputs": [],
   "source": [
    "def get_csv_file(path,url,name):\n",
    "    s_result = urllib.request.urlopen(url)\n",
    "    s_text = s_result.read().decode('utf-8')\n",
    "    s_file_name = path+name+\".csv\"\n",
    "    o_file = open(s_file_name, \"w\", encoding=\"utf8\")\n",
    "    o_file.write(s_text)\n",
    "    o_file.close()\n",
    "    \n",
    "def get_file_dataframe():\n",
    "    \n",
    "    list_of_files = glob.glob(f'{Path.home()}/TM/var_comodity/JSONS/USDA/*.csv') # * means all if need specific format then *.csv\n",
    "    #print(list_of_files)\n",
    "    latest_file = max(list_of_files, key=os.path.getctime)\n",
    "    filename = latest_file\n",
    "    #print(filename)\n",
    "    df = pd.read_csv(filename)\n",
    "    return df\n",
    "\n",
    "def delete_files_used(times):\n",
    "    \n",
    "    for i in range(times):\n",
    "        \n",
    "        list_of_files = glob.glob(f'{Path.home()}/TM/var_comodity/JSONS/USDA/*.csv') # * means all if need specific format then *.csv\n",
    "        latest_file = max(list_of_files, key=os.path.getctime)\n",
    "        os.remove(latest_file)\n",
    "        #print('ok')\n",
    "        \n",
    "    return \n",
    "\n",
    "def download_wait(path_to_downloads):\n",
    "    seconds = 0\n",
    "    dl_wait = True\n",
    "    while dl_wait and seconds < 20:\n",
    "        time.sleep(1)\n",
    "        dl_wait = False\n",
    "        for fname in os.listdir(path_to_downloads):\n",
    "            if fname.endswith('.crdownload'):\n",
    "                dl_wait = True\n",
    "        seconds += 1\n",
    "    return seconds;"
   ]
  },
  {
   "cell_type": "code",
   "execution_count": 3,
   "id": "af77bc16-c5c5-41de-b4c2-ec3481268f3d",
   "metadata": {},
   "outputs": [],
   "source": [
    "base_path = 'C:\\\\Users\\\\guilh\\\\TM\\\\var_comodity\\\\JSONS\\\\USDA\\\\'"
   ]
  },
  {
   "cell_type": "code",
   "execution_count": 4,
   "id": "1cb818ba-a78f-4c08-a7f0-8cd9d537e3ac",
   "metadata": {},
   "outputs": [],
   "source": [
    "bov_dict = {'calf-crop':'https://api.usda-reports.penguinlabs.net/data.csv?short_desc=CATTLE+-+CALF+CROP%2C+MEASURED+IN+HEAD&year=2022&agg_level_desc=STATE',\n",
    "            'beef-inv':'https://api.usda-reports.penguinlabs.net/data.csv?short_desc=CATTLE%2C+COWS%2C+BEEF+-+INVENTORY&year=2022&agg_level_desc=STATE&reference_period_desc=FIRST+OF+JAN',\n",
    "            'milk_inv':'https://api.usda-reports.penguinlabs.net/data.csv?short_desc=MILK+-+PRODUCTION%2C+MEASURED+IN+%24&year=2021&agg_level_desc=STATE',\n",
    "            'calves-inv':'https://api.usda-reports.penguinlabs.net/data.csv?short_desc=CATTLE%2C+INCL+CALVES+-+INVENTORY%2C+MEASURED+IN+%24&year=2022&agg_level_desc=STATE&reference_period_desc=FIRST+OF+JAN',\n",
    "            'calves-inv-dollars':'https://api.usda-reports.penguinlabs.net/data.csv?short_desc=CATTLE%2C+INCL+CALVES+-+INVENTORY%2C+MEASURED+IN+%24&year=2022&agg_level_desc=STATE&reference_period_desc=FIRST+OF+JAN',\n",
    "            'calves-inv-dolar-vs-head':'https://api.usda-reports.penguinlabs.net/data.csv?short_desc=CATTLE%2C+INCL+CALVES+-+INVENTORY%2C+MEASURED+IN+%24+%2F+HEAD&year=2022&agg_level_desc=STATE&reference_period_desc=FIRST+OF+JAN'}\n",
    "\n",
    "sui_dict = {'hog-inv':'https://api.usda-reports.penguinlabs.net/data.csv?short_desc=HOGS+-+INVENTORY&year=2022&agg_level_desc=STATE&reference_period_desc=FIRST+OF+DEC',\n",
    "           'hog-inv-dollar':'https://api.usda-reports.penguinlabs.net/data.csv?short_desc=HOGS+-+INVENTORY%2C+MEASURED+IN+%24&year=2021&agg_level_desc=STATE&reference_period_desc=FIRST+OF+DEC',\n",
    "           'litter-rate':'https://api.usda-reports.penguinlabs.net/data.csv?short_desc=HOGS+-+LITTER+RATE%2C+MEASURED+IN+PIGS+%2F+LITTER&year=2022&agg_level_desc=STATE&reference_period_desc=MARKETING+YEAR',\n",
    "           'pig-crop':'https://api.usda-reports.penguinlabs.net/data.csv?short_desc=HOGS+-+PIG+CROP%2C+MEASURED+IN+HEAD&year=2022&agg_level_desc=STATE&reference_period_desc=MARKETING+YEAR',\n",
    "           'breed-inv':'https://api.usda-reports.penguinlabs.net/data.csv?short_desc=HOGS%2C+BREEDING+-+INVENTORY&year=2022&agg_level_desc=STATE&reference_period_desc=FIRST+OF+DEC',\n",
    "           'mkt-inv':'https://api.usda-reports.penguinlabs.net/data.csv?short_desc=HOGS%2C+MARKET+-+INVENTORY&year=2022&agg_level_desc=STATE&reference_period_desc=FIRST+OF+DEC',\n",
    "           'farrowed':'https://api.usda-reports.penguinlabs.net/data.csv?short_desc=HOGS%2C+SOWS+-+FARROWED%2C+MEASURED+IN+HEAD&year=2022&agg_level_desc=STATE&reference_period_desc=MARKETING+YEAR'}"
   ]
  },
  {
   "cell_type": "code",
   "execution_count": 5,
   "id": "5100ff7a-005a-4b56-b7bc-a5c0b312ac79",
   "metadata": {},
   "outputs": [],
   "source": [
    "dict_list = [bov_dict,sui_dict]"
   ]
  },
  {
   "cell_type": "code",
   "execution_count": 6,
   "id": "8fa00ebf-7b2b-4247-ad65-b79ad3ccb729",
   "metadata": {},
   "outputs": [],
   "source": [
    "for usda_dict in dict_list:\n",
    "    for keys in usda_dict.keys():\n",
    "        path = base_path\n",
    "        folder_name = path+keys        \n",
    "    \n",
    "        if not os.path.exists(folder_name):\n",
    "            os.mkdir(folder_name)\n",
    "    \n",
    "        else:    \n",
    "            pass"
   ]
  },
  {
   "cell_type": "code",
   "execution_count": 7,
   "id": "1cd58349-9e7d-4711-81f8-73da9e802ce9",
   "metadata": {},
   "outputs": [],
   "source": [
    "for dict_usda in dict_list:\n",
    "    for name,url in dict_usda.items():\n",
    "        path = base_path+name+'\\\\'+name\n",
    "        get_csv_file(base_path,url,name)\n",
    "        \n",
    "        df_csv = get_file_dataframe()\n",
    "        unit = str(list(df_csv['unit_desc'].unique()))\n",
    "        states_list = df_csv['state_alpha'].unique()\n",
    "        \n",
    "        end_path = '_us_'+unit+'close_y1.json'\n",
    "        \n",
    "        for states in states_list:\n",
    "            \n",
    "            full_name = path+states+end_path.replace(\" \",\"\").replace(\"['\",\"\").replace('/',\"\").replace('$',\"\")    \n",
    "            df_edit = df_csv.copy()\n",
    "            filtro = (df_edit.state_alpha ==states)\n",
    "            \n",
    "            df_filter = df_edit[filtro]\n",
    "            \n",
    "            df_json = df_filter[['year','Value']]\n",
    "            df = df_json\n",
    "            if not df.empty:\n",
    "            #    print(df.empty)\n",
    "                df.to_json(full_name,indent =1)\n",
    "            else:\n",
    "                pass\n"
   ]
  },
  {
   "cell_type": "code",
   "execution_count": 8,
   "id": "fa041d3b-ef5c-466d-b234-01a3668d1fc1",
   "metadata": {},
   "outputs": [],
   "source": [
    "delete_files_used(13)"
   ]
  },
  {
   "cell_type": "code",
   "execution_count": null,
   "id": "94c70ed2-82d2-4dee-818d-4df9f7fe678d",
   "metadata": {},
   "outputs": [],
   "source": []
  },
  {
   "cell_type": "code",
   "execution_count": null,
   "id": "d43cbe51-5933-446e-a9f2-bb3bc85a3295",
   "metadata": {},
   "outputs": [],
   "source": []
  },
  {
   "cell_type": "code",
   "execution_count": null,
   "id": "b89e7ff3-631f-4304-8290-a10ec47dd1cd",
   "metadata": {},
   "outputs": [],
   "source": []
  }
 ],
 "metadata": {
  "kernelspec": {
   "display_name": "Python 3 (ipykernel)",
   "language": "python",
   "name": "python3"
  },
  "language_info": {
   "codemirror_mode": {
    "name": "ipython",
    "version": 3
   },
   "file_extension": ".py",
   "mimetype": "text/x-python",
   "name": "python",
   "nbconvert_exporter": "python",
   "pygments_lexer": "ipython3",
   "version": "3.11.1"
  }
 },
 "nbformat": 4,
 "nbformat_minor": 5
}
